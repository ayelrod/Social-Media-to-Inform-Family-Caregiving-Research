import pandas as pd
data = pd.read_csv('als.csv')